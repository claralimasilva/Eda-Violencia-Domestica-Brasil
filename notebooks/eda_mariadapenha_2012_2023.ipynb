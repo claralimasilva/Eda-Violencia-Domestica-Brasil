{
 "cells": [
  {
   "cell_type": "code",
   "execution_count": 6,
   "metadata": {},
   "outputs": [],
   "source": [
    "import pandas as pd\n",
    "import numpy as np\n",
    "import matplotlib.pyplot as plt"
   ]
  },
  {
   "cell_type": "code",
   "execution_count": 8,
   "metadata": {},
   "outputs": [],
   "source": [
    "df = pd.read_csv('../data/processed/Lei-Maria-da-Penha_2012-a-2023.csv')\n"
   ]
  },
  {
   "cell_type": "code",
   "execution_count": 9,
   "metadata": {},
   "outputs": [
    {
     "data": {
      "text/html": [
       "<div>\n",
       "<style scoped>\n",
       "    .dataframe tbody tr th:only-of-type {\n",
       "        vertical-align: middle;\n",
       "    }\n",
       "\n",
       "    .dataframe tbody tr th {\n",
       "        vertical-align: top;\n",
       "    }\n",
       "\n",
       "    .dataframe thead th {\n",
       "        text-align: right;\n",
       "    }\n",
       "</style>\n",
       "<table border=\"1\" class=\"dataframe\">\n",
       "  <thead>\n",
       "    <tr style=\"text-align: right;\">\n",
       "      <th></th>\n",
       "      <th>AIS</th>\n",
       "      <th>Município</th>\n",
       "      <th>Data</th>\n",
       "      <th>Hora</th>\n",
       "      <th>Dia da Semana</th>\n",
       "      <th>Gênero</th>\n",
       "      <th>Idade da Vítima</th>\n",
       "      <th>Escolaridade da Vítima</th>\n",
       "      <th>Raça da Vítima</th>\n",
       "    </tr>\n",
       "  </thead>\n",
       "  <tbody>\n",
       "    <tr>\n",
       "      <th>count</th>\n",
       "      <td>207780</td>\n",
       "      <td>207780</td>\n",
       "      <td>207780</td>\n",
       "      <td>207780</td>\n",
       "      <td>207780</td>\n",
       "      <td>207780</td>\n",
       "      <td>207780</td>\n",
       "      <td>207780</td>\n",
       "      <td>207780</td>\n",
       "    </tr>\n",
       "    <tr>\n",
       "      <th>unique</th>\n",
       "      <td>26</td>\n",
       "      <td>184</td>\n",
       "      <td>4383</td>\n",
       "      <td>8787</td>\n",
       "      <td>7</td>\n",
       "      <td>1</td>\n",
       "      <td>105</td>\n",
       "      <td>9</td>\n",
       "      <td>6</td>\n",
       "    </tr>\n",
       "    <tr>\n",
       "      <th>top</th>\n",
       "      <td>AIS 19</td>\n",
       "      <td>Fortaleza</td>\n",
       "      <td>2018-08-12</td>\n",
       "      <td>19:00:00.029000</td>\n",
       "      <td>Domingo</td>\n",
       "      <td>Feminino</td>\n",
       "      <td>32</td>\n",
       "      <td>Alfabetizado</td>\n",
       "      <td>Não Informada</td>\n",
       "    </tr>\n",
       "    <tr>\n",
       "      <th>freq</th>\n",
       "      <td>30421</td>\n",
       "      <td>81189</td>\n",
       "      <td>132</td>\n",
       "      <td>6725</td>\n",
       "      <td>41714</td>\n",
       "      <td>207780</td>\n",
       "      <td>6637</td>\n",
       "      <td>46700</td>\n",
       "      <td>149010</td>\n",
       "    </tr>\n",
       "  </tbody>\n",
       "</table>\n",
       "</div>"
      ],
      "text/plain": [
       "           AIS  Município        Data             Hora Dia da Semana  \\\n",
       "count   207780     207780      207780           207780        207780   \n",
       "unique      26        184        4383             8787             7   \n",
       "top     AIS 19  Fortaleza  2018-08-12  19:00:00.029000       Domingo   \n",
       "freq     30421      81189         132             6725         41714   \n",
       "\n",
       "          Gênero Idade da Vítima Escolaridade da Vítima Raça da Vítima  \n",
       "count     207780          207780                 207780         207780  \n",
       "unique         1             105                      9              6  \n",
       "top     Feminino              32           Alfabetizado  Não Informada  \n",
       "freq      207780            6637                  46700         149010  "
      ]
     },
     "execution_count": 9,
     "metadata": {},
     "output_type": "execute_result"
    }
   ],
   "source": [
    "df.describe()"
   ]
  },
  {
   "cell_type": "code",
   "execution_count": null,
   "metadata": {},
   "outputs": [],
   "source": []
  }
 ],
 "metadata": {
  "kernelspec": {
   "display_name": "Python 3",
   "language": "python",
   "name": "python3"
  },
  "language_info": {
   "codemirror_mode": {
    "name": "ipython",
    "version": 3
   },
   "file_extension": ".py",
   "mimetype": "text/x-python",
   "name": "python",
   "nbconvert_exporter": "python",
   "pygments_lexer": "ipython3",
   "version": "3.12.3"
  }
 },
 "nbformat": 4,
 "nbformat_minor": 2
}
